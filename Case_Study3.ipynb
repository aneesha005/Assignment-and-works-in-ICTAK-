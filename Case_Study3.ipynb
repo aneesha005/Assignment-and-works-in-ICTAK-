{
  "nbformat": 4,
  "nbformat_minor": 0,
  "metadata": {
    "colab": {
      "name": "Case Study3.ipynb",
      "provenance": [],
      "collapsed_sections": []
    },
    "kernelspec": {
      "name": "python3",
      "display_name": "Python 3"
    },
    "language_info": {
      "name": "python"
    }
  },
  "cells": [
    {
      "cell_type": "code",
      "metadata": {
        "id": "SZ5eB0uWnGlH"
      },
      "source": [
        "import numpy as np\n",
        "import pandas as pd\n",
        "import matplotlib.pyplot as plt\n",
        "import seaborn  as snc "
      ],
      "execution_count": null,
      "outputs": []
    },
    {
      "cell_type": "code",
      "metadata": {
        "colab": {
          "base_uri": "https://localhost:8080/",
          "height": 424
        },
        "id": "rk8rbdvCn6-U",
        "outputId": "b4fa5dfb-61ed-4867-8e7e-441672f03a6d"
      },
      "source": [
        "df=pd.read_csv(\"/content/Add_sales_data_2018.csv\")\n",
        "df"
      ],
      "execution_count": null,
      "outputs": [
        {
          "output_type": "execute_result",
          "data": {
            "text/html": [
              "<div>\n",
              "<style scoped>\n",
              "    .dataframe tbody tr th:only-of-type {\n",
              "        vertical-align: middle;\n",
              "    }\n",
              "\n",
              "    .dataframe tbody tr th {\n",
              "        vertical-align: top;\n",
              "    }\n",
              "\n",
              "    .dataframe thead th {\n",
              "        text-align: right;\n",
              "    }\n",
              "</style>\n",
              "<table border=\"1\" class=\"dataframe\">\n",
              "  <thead>\n",
              "    <tr style=\"text-align: right;\">\n",
              "      <th></th>\n",
              "      <th>Date</th>\n",
              "      <th>Add1(in Thousands)</th>\n",
              "      <th>Add2(in Thousands)</th>\n",
              "      <th>Add3(in Thousands)</th>\n",
              "      <th>Add4(in Thousands)</th>\n",
              "      <th>Add5(in Thousands)</th>\n",
              "      <th>Profit(in Thousands)</th>\n",
              "    </tr>\n",
              "  </thead>\n",
              "  <tbody>\n",
              "    <tr>\n",
              "      <th>0</th>\n",
              "      <td>2018-10-08</td>\n",
              "      <td>208.00</td>\n",
              "      <td>222.25</td>\n",
              "      <td>206.85</td>\n",
              "      <td>216.00</td>\n",
              "      <td>215.15</td>\n",
              "      <td>4093.065</td>\n",
              "    </tr>\n",
              "    <tr>\n",
              "      <th>1</th>\n",
              "      <td>2018-10-05</td>\n",
              "      <td>217.00</td>\n",
              "      <td>218.60</td>\n",
              "      <td>205.90</td>\n",
              "      <td>210.25</td>\n",
              "      <td>209.20</td>\n",
              "      <td>4042.448</td>\n",
              "    </tr>\n",
              "    <tr>\n",
              "      <th>2</th>\n",
              "      <td>2018-10-04</td>\n",
              "      <td>223.50</td>\n",
              "      <td>227.80</td>\n",
              "      <td>216.15</td>\n",
              "      <td>217.25</td>\n",
              "      <td>218.20</td>\n",
              "      <td>4213.819</td>\n",
              "    </tr>\n",
              "    <tr>\n",
              "      <th>3</th>\n",
              "      <td>2018-10-03</td>\n",
              "      <td>230.00</td>\n",
              "      <td>237.50</td>\n",
              "      <td>225.75</td>\n",
              "      <td>226.45</td>\n",
              "      <td>227.60</td>\n",
              "      <td>4391.665</td>\n",
              "    </tr>\n",
              "    <tr>\n",
              "      <th>4</th>\n",
              "      <td>2018-10-01</td>\n",
              "      <td>234.55</td>\n",
              "      <td>234.60</td>\n",
              "      <td>221.05</td>\n",
              "      <td>230.30</td>\n",
              "      <td>230.90</td>\n",
              "      <td>4350.683</td>\n",
              "    </tr>\n",
              "    <tr>\n",
              "      <th>...</th>\n",
              "      <td>...</td>\n",
              "      <td>...</td>\n",
              "      <td>...</td>\n",
              "      <td>...</td>\n",
              "      <td>...</td>\n",
              "      <td>...</td>\n",
              "      <td>...</td>\n",
              "    </tr>\n",
              "    <tr>\n",
              "      <th>200</th>\n",
              "      <td>2017-12-14</td>\n",
              "      <td>288.00</td>\n",
              "      <td>288.25</td>\n",
              "      <td>279.20</td>\n",
              "      <td>284.50</td>\n",
              "      <td>284.30</td>\n",
              "      <td>5374.105</td>\n",
              "    </tr>\n",
              "    <tr>\n",
              "      <th>201</th>\n",
              "      <td>2017-12-13</td>\n",
              "      <td>290.00</td>\n",
              "      <td>292.50</td>\n",
              "      <td>282.20</td>\n",
              "      <td>284.80</td>\n",
              "      <td>284.45</td>\n",
              "      <td>5439.655</td>\n",
              "    </tr>\n",
              "    <tr>\n",
              "      <th>202</th>\n",
              "      <td>2017-12-12</td>\n",
              "      <td>298.60</td>\n",
              "      <td>298.60</td>\n",
              "      <td>286.65</td>\n",
              "      <td>287.45</td>\n",
              "      <td>287.80</td>\n",
              "      <td>5545.013</td>\n",
              "    </tr>\n",
              "    <tr>\n",
              "      <th>203</th>\n",
              "      <td>2017-12-11</td>\n",
              "      <td>290.00</td>\n",
              "      <td>299.55</td>\n",
              "      <td>285.90</td>\n",
              "      <td>297.85</td>\n",
              "      <td>298.35</td>\n",
              "      <td>5565.444</td>\n",
              "    </tr>\n",
              "    <tr>\n",
              "      <th>204</th>\n",
              "      <td>2017-12-08</td>\n",
              "      <td>287.55</td>\n",
              "      <td>289.90</td>\n",
              "      <td>285.05</td>\n",
              "      <td>288.05</td>\n",
              "      <td>288.45</td>\n",
              "      <td>5421.842</td>\n",
              "    </tr>\n",
              "  </tbody>\n",
              "</table>\n",
              "<p>205 rows × 7 columns</p>\n",
              "</div>"
            ],
            "text/plain": [
              "           Date  Add1(in Thousands)  ...  Add5(in Thousands)  Profit(in Thousands)\n",
              "0    2018-10-08              208.00  ...              215.15              4093.065\n",
              "1    2018-10-05              217.00  ...              209.20              4042.448\n",
              "2    2018-10-04              223.50  ...              218.20              4213.819\n",
              "3    2018-10-03              230.00  ...              227.60              4391.665\n",
              "4    2018-10-01              234.55  ...              230.90              4350.683\n",
              "..          ...                 ...  ...                 ...                   ...\n",
              "200  2017-12-14              288.00  ...              284.30              5374.105\n",
              "201  2017-12-13              290.00  ...              284.45              5439.655\n",
              "202  2017-12-12              298.60  ...              287.80              5545.013\n",
              "203  2017-12-11              290.00  ...              298.35              5565.444\n",
              "204  2017-12-08              287.55  ...              288.45              5421.842\n",
              "\n",
              "[205 rows x 7 columns]"
            ]
          },
          "metadata": {},
          "execution_count": 3
        }
      ]
    },
    {
      "cell_type": "code",
      "metadata": {
        "colab": {
          "base_uri": "https://localhost:8080/"
        },
        "id": "3nkZkgEEu5rc",
        "outputId": "4f54eb15-5928-42ea-8a11-7367c3346ada"
      },
      "source": [
        "df.mean()"
      ],
      "execution_count": null,
      "outputs": [
        {
          "output_type": "execute_result",
          "data": {
            "text/plain": [
              "Add1(in Thousands)       267.577561\n",
              "Add2(in Thousands)       271.722439\n",
              "Add3(in Thousands)       262.990732\n",
              "Add4(in Thousands)       267.223902\n",
              "Add5(in Thousands)       267.152683\n",
              "Profit(in Thousands)    5059.630234\n",
              "dtype: float64"
            ]
          },
          "metadata": {},
          "execution_count": 11
        }
      ]
    },
    {
      "cell_type": "code",
      "metadata": {
        "id": "1zbY42O1DKKc"
      },
      "source": [
        "plt"
      ],
      "execution_count": null,
      "outputs": []
    },
    {
      "cell_type": "code",
      "metadata": {
        "colab": {
          "base_uri": "https://localhost:8080/",
          "height": 206
        },
        "id": "4eLw2mccq6kb",
        "outputId": "e49909cf-2924-4573-94cc-0731194ba13c"
      },
      "source": [
        "df.head()"
      ],
      "execution_count": null,
      "outputs": [
        {
          "output_type": "execute_result",
          "data": {
            "text/html": [
              "<div>\n",
              "<style scoped>\n",
              "    .dataframe tbody tr th:only-of-type {\n",
              "        vertical-align: middle;\n",
              "    }\n",
              "\n",
              "    .dataframe tbody tr th {\n",
              "        vertical-align: top;\n",
              "    }\n",
              "\n",
              "    .dataframe thead th {\n",
              "        text-align: right;\n",
              "    }\n",
              "</style>\n",
              "<table border=\"1\" class=\"dataframe\">\n",
              "  <thead>\n",
              "    <tr style=\"text-align: right;\">\n",
              "      <th></th>\n",
              "      <th>Date</th>\n",
              "      <th>Add1(in Thousands)</th>\n",
              "      <th>Add2(in Thousands)</th>\n",
              "      <th>Add3(in Thousands)</th>\n",
              "      <th>Add4(in Thousands)</th>\n",
              "      <th>Add5(in Thousands)</th>\n",
              "      <th>Profit(in Thousands)</th>\n",
              "    </tr>\n",
              "  </thead>\n",
              "  <tbody>\n",
              "    <tr>\n",
              "      <th>0</th>\n",
              "      <td>2018-10-08</td>\n",
              "      <td>208.00</td>\n",
              "      <td>222.25</td>\n",
              "      <td>206.85</td>\n",
              "      <td>216.00</td>\n",
              "      <td>215.15</td>\n",
              "      <td>4093.065</td>\n",
              "    </tr>\n",
              "    <tr>\n",
              "      <th>1</th>\n",
              "      <td>2018-10-05</td>\n",
              "      <td>217.00</td>\n",
              "      <td>218.60</td>\n",
              "      <td>205.90</td>\n",
              "      <td>210.25</td>\n",
              "      <td>209.20</td>\n",
              "      <td>4042.448</td>\n",
              "    </tr>\n",
              "    <tr>\n",
              "      <th>2</th>\n",
              "      <td>2018-10-04</td>\n",
              "      <td>223.50</td>\n",
              "      <td>227.80</td>\n",
              "      <td>216.15</td>\n",
              "      <td>217.25</td>\n",
              "      <td>218.20</td>\n",
              "      <td>4213.819</td>\n",
              "    </tr>\n",
              "    <tr>\n",
              "      <th>3</th>\n",
              "      <td>2018-10-03</td>\n",
              "      <td>230.00</td>\n",
              "      <td>237.50</td>\n",
              "      <td>225.75</td>\n",
              "      <td>226.45</td>\n",
              "      <td>227.60</td>\n",
              "      <td>4391.665</td>\n",
              "    </tr>\n",
              "    <tr>\n",
              "      <th>4</th>\n",
              "      <td>2018-10-01</td>\n",
              "      <td>234.55</td>\n",
              "      <td>234.60</td>\n",
              "      <td>221.05</td>\n",
              "      <td>230.30</td>\n",
              "      <td>230.90</td>\n",
              "      <td>4350.683</td>\n",
              "    </tr>\n",
              "  </tbody>\n",
              "</table>\n",
              "</div>"
            ],
            "text/plain": [
              "         Date  Add1(in Thousands)  ...  Add5(in Thousands)  Profit(in Thousands)\n",
              "0  2018-10-08              208.00  ...              215.15              4093.065\n",
              "1  2018-10-05              217.00  ...              209.20              4042.448\n",
              "2  2018-10-04              223.50  ...              218.20              4213.819\n",
              "3  2018-10-03              230.00  ...              227.60              4391.665\n",
              "4  2018-10-01              234.55  ...              230.90              4350.683\n",
              "\n",
              "[5 rows x 7 columns]"
            ]
          },
          "metadata": {},
          "execution_count": 14
        }
      ]
    },
    {
      "cell_type": "code",
      "metadata": {
        "colab": {
          "base_uri": "https://localhost:8080/",
          "height": 206
        },
        "id": "riUTs8hUvGUE",
        "outputId": "64b72d48-2d75-4740-f01d-64d7d79b5035"
      },
      "source": [
        "df.tail()"
      ],
      "execution_count": null,
      "outputs": [
        {
          "output_type": "execute_result",
          "data": {
            "text/html": [
              "<div>\n",
              "<style scoped>\n",
              "    .dataframe tbody tr th:only-of-type {\n",
              "        vertical-align: middle;\n",
              "    }\n",
              "\n",
              "    .dataframe tbody tr th {\n",
              "        vertical-align: top;\n",
              "    }\n",
              "\n",
              "    .dataframe thead th {\n",
              "        text-align: right;\n",
              "    }\n",
              "</style>\n",
              "<table border=\"1\" class=\"dataframe\">\n",
              "  <thead>\n",
              "    <tr style=\"text-align: right;\">\n",
              "      <th></th>\n",
              "      <th>Date</th>\n",
              "      <th>Add1(in Thousands)</th>\n",
              "      <th>Add2(in Thousands)</th>\n",
              "      <th>Add3(in Thousands)</th>\n",
              "      <th>Add4(in Thousands)</th>\n",
              "      <th>Add5(in Thousands)</th>\n",
              "      <th>Profit(in Thousands)</th>\n",
              "    </tr>\n",
              "  </thead>\n",
              "  <tbody>\n",
              "    <tr>\n",
              "      <th>200</th>\n",
              "      <td>2017-12-14</td>\n",
              "      <td>288.00</td>\n",
              "      <td>288.25</td>\n",
              "      <td>279.20</td>\n",
              "      <td>284.50</td>\n",
              "      <td>284.30</td>\n",
              "      <td>5374.105</td>\n",
              "    </tr>\n",
              "    <tr>\n",
              "      <th>201</th>\n",
              "      <td>2017-12-13</td>\n",
              "      <td>290.00</td>\n",
              "      <td>292.50</td>\n",
              "      <td>282.20</td>\n",
              "      <td>284.80</td>\n",
              "      <td>284.45</td>\n",
              "      <td>5439.655</td>\n",
              "    </tr>\n",
              "    <tr>\n",
              "      <th>202</th>\n",
              "      <td>2017-12-12</td>\n",
              "      <td>298.60</td>\n",
              "      <td>298.60</td>\n",
              "      <td>286.65</td>\n",
              "      <td>287.45</td>\n",
              "      <td>287.80</td>\n",
              "      <td>5545.013</td>\n",
              "    </tr>\n",
              "    <tr>\n",
              "      <th>203</th>\n",
              "      <td>2017-12-11</td>\n",
              "      <td>290.00</td>\n",
              "      <td>299.55</td>\n",
              "      <td>285.90</td>\n",
              "      <td>297.85</td>\n",
              "      <td>298.35</td>\n",
              "      <td>5565.444</td>\n",
              "    </tr>\n",
              "    <tr>\n",
              "      <th>204</th>\n",
              "      <td>2017-12-08</td>\n",
              "      <td>287.55</td>\n",
              "      <td>289.90</td>\n",
              "      <td>285.05</td>\n",
              "      <td>288.05</td>\n",
              "      <td>288.45</td>\n",
              "      <td>5421.842</td>\n",
              "    </tr>\n",
              "  </tbody>\n",
              "</table>\n",
              "</div>"
            ],
            "text/plain": [
              "           Date  Add1(in Thousands)  ...  Add5(in Thousands)  Profit(in Thousands)\n",
              "200  2017-12-14              288.00  ...              284.30              5374.105\n",
              "201  2017-12-13              290.00  ...              284.45              5439.655\n",
              "202  2017-12-12              298.60  ...              287.80              5545.013\n",
              "203  2017-12-11              290.00  ...              298.35              5565.444\n",
              "204  2017-12-08              287.55  ...              288.45              5421.842\n",
              "\n",
              "[5 rows x 7 columns]"
            ]
          },
          "metadata": {},
          "execution_count": 13
        }
      ]
    },
    {
      "cell_type": "code",
      "metadata": {
        "colab": {
          "base_uri": "https://localhost:8080/",
          "height": 300
        },
        "id": "SsffI-r8vJHb",
        "outputId": "a50d21f9-cf78-4ade-b252-60fb457f4bdb"
      },
      "source": [
        "df.describe()"
      ],
      "execution_count": null,
      "outputs": [
        {
          "output_type": "execute_result",
          "data": {
            "text/html": [
              "<div>\n",
              "<style scoped>\n",
              "    .dataframe tbody tr th:only-of-type {\n",
              "        vertical-align: middle;\n",
              "    }\n",
              "\n",
              "    .dataframe tbody tr th {\n",
              "        vertical-align: top;\n",
              "    }\n",
              "\n",
              "    .dataframe thead th {\n",
              "        text-align: right;\n",
              "    }\n",
              "</style>\n",
              "<table border=\"1\" class=\"dataframe\">\n",
              "  <thead>\n",
              "    <tr style=\"text-align: right;\">\n",
              "      <th></th>\n",
              "      <th>Add1(in Thousands)</th>\n",
              "      <th>Add2(in Thousands)</th>\n",
              "      <th>Add3(in Thousands)</th>\n",
              "      <th>Add4(in Thousands)</th>\n",
              "      <th>Add5(in Thousands)</th>\n",
              "      <th>Profit(in Thousands)</th>\n",
              "    </tr>\n",
              "  </thead>\n",
              "  <tbody>\n",
              "    <tr>\n",
              "      <th>count</th>\n",
              "      <td>205.000000</td>\n",
              "      <td>205.000000</td>\n",
              "      <td>205.000000</td>\n",
              "      <td>205.000000</td>\n",
              "      <td>205.000000</td>\n",
              "      <td>205.000000</td>\n",
              "    </tr>\n",
              "    <tr>\n",
              "      <th>mean</th>\n",
              "      <td>267.577561</td>\n",
              "      <td>271.722439</td>\n",
              "      <td>262.990732</td>\n",
              "      <td>267.223902</td>\n",
              "      <td>267.152683</td>\n",
              "      <td>5059.630234</td>\n",
              "    </tr>\n",
              "    <tr>\n",
              "      <th>std</th>\n",
              "      <td>26.219588</td>\n",
              "      <td>25.914939</td>\n",
              "      <td>26.126704</td>\n",
              "      <td>26.238832</td>\n",
              "      <td>26.215360</td>\n",
              "      <td>486.910414</td>\n",
              "    </tr>\n",
              "    <tr>\n",
              "      <th>min</th>\n",
              "      <td>208.000000</td>\n",
              "      <td>218.600000</td>\n",
              "      <td>205.900000</td>\n",
              "      <td>210.250000</td>\n",
              "      <td>209.200000</td>\n",
              "      <td>4042.448000</td>\n",
              "    </tr>\n",
              "    <tr>\n",
              "      <th>25%</th>\n",
              "      <td>244.000000</td>\n",
              "      <td>248.500000</td>\n",
              "      <td>240.300000</td>\n",
              "      <td>243.050000</td>\n",
              "      <td>243.000000</td>\n",
              "      <td>4617.695000</td>\n",
              "    </tr>\n",
              "    <tr>\n",
              "      <th>50%</th>\n",
              "      <td>269.700000</td>\n",
              "      <td>274.200000</td>\n",
              "      <td>263.250000</td>\n",
              "      <td>268.900000</td>\n",
              "      <td>268.350000</td>\n",
              "      <td>5088.455000</td>\n",
              "    </tr>\n",
              "    <tr>\n",
              "      <th>75%</th>\n",
              "      <td>284.400000</td>\n",
              "      <td>288.800000</td>\n",
              "      <td>280.900000</td>\n",
              "      <td>284.500000</td>\n",
              "      <td>284.450000</td>\n",
              "      <td>5387.438000</td>\n",
              "    </tr>\n",
              "    <tr>\n",
              "      <th>max</th>\n",
              "      <td>327.700000</td>\n",
              "      <td>328.750000</td>\n",
              "      <td>321.650000</td>\n",
              "      <td>325.950000</td>\n",
              "      <td>325.750000</td>\n",
              "      <td>6137.800000</td>\n",
              "    </tr>\n",
              "  </tbody>\n",
              "</table>\n",
              "</div>"
            ],
            "text/plain": [
              "       Add1(in Thousands)  ...  Profit(in Thousands)\n",
              "count          205.000000  ...            205.000000\n",
              "mean           267.577561  ...           5059.630234\n",
              "std             26.219588  ...            486.910414\n",
              "min            208.000000  ...           4042.448000\n",
              "25%            244.000000  ...           4617.695000\n",
              "50%            269.700000  ...           5088.455000\n",
              "75%            284.400000  ...           5387.438000\n",
              "max            327.700000  ...           6137.800000\n",
              "\n",
              "[8 rows x 6 columns]"
            ]
          },
          "metadata": {},
          "execution_count": 14
        }
      ]
    },
    {
      "cell_type": "code",
      "metadata": {
        "colab": {
          "base_uri": "https://localhost:8080/",
          "height": 238
        },
        "id": "LvZXomhl-riK",
        "outputId": "ff79fd6d-7c2a-4317-c59b-bb6d31ccb265"
      },
      "source": [
        "c = df.corr()\n",
        "c"
      ],
      "execution_count": null,
      "outputs": [
        {
          "output_type": "execute_result",
          "data": {
            "text/html": [
              "<div>\n",
              "<style scoped>\n",
              "    .dataframe tbody tr th:only-of-type {\n",
              "        vertical-align: middle;\n",
              "    }\n",
              "\n",
              "    .dataframe tbody tr th {\n",
              "        vertical-align: top;\n",
              "    }\n",
              "\n",
              "    .dataframe thead th {\n",
              "        text-align: right;\n",
              "    }\n",
              "</style>\n",
              "<table border=\"1\" class=\"dataframe\">\n",
              "  <thead>\n",
              "    <tr style=\"text-align: right;\">\n",
              "      <th></th>\n",
              "      <th>Add1(in Thousands)</th>\n",
              "      <th>Add2(in Thousands)</th>\n",
              "      <th>Add3(in Thousands)</th>\n",
              "      <th>Add4(in Thousands)</th>\n",
              "      <th>Add5(in Thousands)</th>\n",
              "      <th>Profit(in Thousands)</th>\n",
              "    </tr>\n",
              "  </thead>\n",
              "  <tbody>\n",
              "    <tr>\n",
              "      <th>Add1(in Thousands)</th>\n",
              "      <td>1.000000</td>\n",
              "      <td>0.990976</td>\n",
              "      <td>0.986274</td>\n",
              "      <td>0.976365</td>\n",
              "      <td>0.976716</td>\n",
              "      <td>0.991975</td>\n",
              "    </tr>\n",
              "    <tr>\n",
              "      <th>Add2(in Thousands)</th>\n",
              "      <td>0.990976</td>\n",
              "      <td>1.000000</td>\n",
              "      <td>0.987990</td>\n",
              "      <td>0.989921</td>\n",
              "      <td>0.990285</td>\n",
              "      <td>0.999145</td>\n",
              "    </tr>\n",
              "    <tr>\n",
              "      <th>Add3(in Thousands)</th>\n",
              "      <td>0.986274</td>\n",
              "      <td>0.987990</td>\n",
              "      <td>1.000000</td>\n",
              "      <td>0.991343</td>\n",
              "      <td>0.991908</td>\n",
              "      <td>0.993389</td>\n",
              "    </tr>\n",
              "    <tr>\n",
              "      <th>Add4(in Thousands)</th>\n",
              "      <td>0.976365</td>\n",
              "      <td>0.989921</td>\n",
              "      <td>0.991343</td>\n",
              "      <td>1.000000</td>\n",
              "      <td>0.999699</td>\n",
              "      <td>0.993346</td>\n",
              "    </tr>\n",
              "    <tr>\n",
              "      <th>Add5(in Thousands)</th>\n",
              "      <td>0.976716</td>\n",
              "      <td>0.990285</td>\n",
              "      <td>0.991908</td>\n",
              "      <td>0.999699</td>\n",
              "      <td>1.000000</td>\n",
              "      <td>0.993710</td>\n",
              "    </tr>\n",
              "    <tr>\n",
              "      <th>Profit(in Thousands)</th>\n",
              "      <td>0.991975</td>\n",
              "      <td>0.999145</td>\n",
              "      <td>0.993389</td>\n",
              "      <td>0.993346</td>\n",
              "      <td>0.993710</td>\n",
              "      <td>1.000000</td>\n",
              "    </tr>\n",
              "  </tbody>\n",
              "</table>\n",
              "</div>"
            ],
            "text/plain": [
              "                      Add1(in Thousands)  ...  Profit(in Thousands)\n",
              "Add1(in Thousands)              1.000000  ...              0.991975\n",
              "Add2(in Thousands)              0.990976  ...              0.999145\n",
              "Add3(in Thousands)              0.986274  ...              0.993389\n",
              "Add4(in Thousands)              0.976365  ...              0.993346\n",
              "Add5(in Thousands)              0.976716  ...              0.993710\n",
              "Profit(in Thousands)            0.991975  ...              1.000000\n",
              "\n",
              "[6 rows x 6 columns]"
            ]
          },
          "metadata": {},
          "execution_count": 5
        }
      ]
    },
    {
      "cell_type": "markdown",
      "source": [
        "1. **First of all, check whether there is any relationship between the amount\n",
        "spent for advertising through five different companies and profit\n",
        "generated.**"
      ],
      "metadata": {
        "id": "7rv7yb2Aa8_w"
      }
    },
    {
      "cell_type": "code",
      "source": [
        "add_graphX =[\"Add1(in Thousands)\",\"Add2(in Thousands)\",\"Add3(in Thousands)\",\"Add4(in Thousands)\",\"Add5(in Thousands)\"]\n",
        "X = df[add_graphX]\n",
        "add_graphY =[\"Profit(in Thousands)\"]\n",
        "Y = df[add_graphY]\n",
        "\n",
        "plt.subplot(3,3,1)\n",
        "plt.scatter(X['Add1(in Thousands)'],Y)\n",
        "\n",
        "plt.subplot(3,3,2)\n",
        "plt.scatter(X['Add2(in Thousands)'],Y)\n",
        "\n",
        "plt.subplot(3,3,3)\n",
        "plt.scatter(X['Add3(in Thousands)'],Y)\n",
        "\n",
        "plt.subplot(3,3,4)\n",
        "plt.scatter(X['Add4(in Thousands)'],Y)\n",
        "\n",
        "plt.subplot(3,3,5)\n",
        "plt.scatter(X['Add4(in Thousands)'],Y)\n",
        "\n"
      ],
      "metadata": {
        "colab": {
          "base_uri": "https://localhost:8080/",
          "height": 206
        },
        "id": "9l3Znx8yxUGd",
        "outputId": "6d63d348-9316-45f4-ff48-ab63206fcf10"
      },
      "execution_count": 51,
      "outputs": [
        {
          "output_type": "execute_result",
          "data": {
            "text/plain": [
              "<matplotlib.collections.PathCollection at 0x7f63fd4f3210>"
            ]
          },
          "metadata": {},
          "execution_count": 51
        },
        {
          "output_type": "display_data",
          "data": {
            "image/png": "[encoded data removed]",
            "text/plain": [
              "<Figure size 432x288 with 5 Axes>"
            ]
          },
          "metadata": {
            "needs_background": "light"
          }
        }
      ]
    },
    {
      "cell_type": "markdown",
      "source": [
        "Which shows there is a strong correlation between the amount spent on advertising among five different companies and the profit generated."
      ],
      "metadata": {
        "id": "Krd3uQV-adZ4"
      }
    },
    {
      "cell_type": "markdown",
      "source": [
        "**2. Build a regression model to predict the profit from the given data and\n",
        "comment your findings on it.**\n"
      ],
      "metadata": {
        "id": "DuTAWupwgjlf"
      }
    },
    {
      "cell_type": "code",
      "source": [
        "y=df['Profit(in Thousands)']\n",
        "X=df.drop(['Date','Profit(in Thousands)'],axis=1)\n",
        "from sklearn.model_selection import train_test_split\n",
        "X_train,X_test,y_train,y_test=train_test_split(X,y,random_state=42,test_size=0.30)\n",
        "from sklearn import linear_model\n",
        "lmodel=linear_model.LinearRegression()\n",
        "model=lmodel.fit(X_train,y_train)\n",
        "predict=model.predict(X_test)\n",
        "print(y_test)"
      ],
      "metadata": {
        "colab": {
          "base_uri": "https://localhost:8080/"
        },
        "id": "MJt7Dv7_coRl",
        "outputId": "1c8f0de9-94c2-42d0-eee9-09ed5363bf3b"
      },
      "execution_count": 50,
      "outputs": [
        {
          "output_type": "stream",
          "name": "stdout",
          "text": [
            "15     4152.066\n",
            "9      4446.441\n",
            "100    5131.898\n",
            "132    4907.560\n",
            "68     5004.282\n",
            "         ...   \n",
            "56     4947.720\n",
            "128    5185.639\n",
            "76     5225.140\n",
            "144    5111.806\n",
            "104    5518.561\n",
            "Name: Profit(in Thousands), Length: 62, dtype: float64\n"
          ]
        }
      ]
    },
    {
      "cell_type": "code",
      "source": [
        "print(predict)"
      ],
      "metadata": {
        "colab": {
          "base_uri": "https://localhost:8080/"
        },
        "id": "rnRJQke_c227",
        "outputId": "c4cb19bd-6423-4011-a95f-7cbdd20fbf00"
      },
      "execution_count": 47,
      "outputs": [
        {
          "output_type": "stream",
          "name": "stdout",
          "text": [
            "[4152.066 4446.441 5131.898 4907.56  5004.282 4623.793 5384.175 5328.025\n",
            " 5175.051 5956.323 5780.799 4997.719 5075.858 5784.54  4936.12  5065.652\n",
            " 4190.965 5034.726 5015.536 5134.657 5145.131 5421.94  4569.293 4598.292\n",
            " 4436.321 4175.677 5616.791 5667.25  4648.834 5717.838 5001.615 5182.368\n",
            " 5017.503 5545.013 5013.207 5030.451 5108.626 4760.877 4606.34  4925.861\n",
            " 5250.788 5038.222 5491.792 5019.997 4647.356 4486.38  4435.174 5300.437\n",
            " 5425.19  4482.183 4193.095 6062.457 4887.296 5805.521 4705.198 4404.686\n",
            " 5465.277 4947.72  5185.639 5225.14  5111.806 5518.561]\n"
          ]
        }
      ]
    },
    {
      "cell_type": "markdown",
      "source": [
        "**3. Predict the profit generated by the company, if they wish to spend the following amount for advertisement.**"
      ],
      "metadata": {
        "id": "9FedZNM4dwdu"
      }
    },
    {
      "cell_type": "code",
      "source": [
        "from sklearn.metrics import mean_squared_error\n",
        "new_input=[[290,312,309,298,320]]\n",
        "new_output=model.predict(new_input)\n",
        "print(' predicted profit is:',new_output)"
      ],
      "metadata": {
        "colab": {
          "base_uri": "https://localhost:8080/"
        },
        "id": "9K-FhDqheMDz",
        "outputId": "54297c17-0f39-452b-e297-a12bd6ea5a21"
      },
      "execution_count": 55,
      "outputs": [
        {
          "output_type": "stream",
          "name": "stdout",
          "text": [
            " predicted profit is: [5820.06]\n"
          ]
        },
        {
          "output_type": "stream",
          "name": "stderr",
          "text": [
            "/usr/local/lib/python3.7/dist-packages/sklearn/base.py:446: UserWarning: X does not have valid feature names, but LinearRegression was fitted with feature names\n",
            "  \"X does not have valid feature names, but\"\n"
          ]
        }
      ]
    }
  ]
}