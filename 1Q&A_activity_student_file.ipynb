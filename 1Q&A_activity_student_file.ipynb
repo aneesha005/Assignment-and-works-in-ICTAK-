{
  "nbformat": 4,
  "nbformat_minor": 0,
  "metadata": {
    "kernelspec": {
      "display_name": "Python 3",
      "language": "python",
      "name": "python3"
    },
    "language_info": {
      "codemirror_mode": {
        "name": "ipython",
        "version": 3
      },
      "file_extension": ".py",
      "mimetype": "text/x-python",
      "name": "python",
      "nbconvert_exporter": "python",
      "pygments_lexer": "ipython3",
      "version": "3.7.6"
    },
    "colab": {
      "name": "Q&A activity student file.ipynb",
      "provenance": [],
      "collapsed_sections": []
    }
  },
  "cells": [
    {
      "cell_type": "markdown",
      "metadata": {
        "id": "4z_Z-K1tlrS7"
      },
      "source": [
        "## 1. Complete the following code to find the area of an equilateral triangle. Output should be as displayed"
      ]
    },
    {
      "cell_type": "code",
      "metadata": {
        "id": "rP2qFD_SlrS_",
        "colab": {
          "base_uri": "https://localhost:8080/"
        },
        "outputId": "b5a6580a-0410-4f7d-d2fc-5e7ae92b9393"
      },
      "source": [
        "import math\n",
        "side = float(input(\"Enter the side of the equilateral triangle: \"))\n",
        "area = ((math.sqrt(3))/4)*pow(side,2)\n",
        "print(\"Area =\" , area)\n"
      ],
      "execution_count": 53,
      "outputs": [
        {
          "output_type": "stream",
          "name": "stdout",
          "text": [
            "Enter the side of the equilateral triangle: 5\n",
            "Area = 10.825317547305483\n"
          ]
        }
      ]
    },
    {
      "cell_type": "markdown",
      "metadata": {
        "id": "TjVKjIfclrTB"
      },
      "source": [
        "## 2. Write a program to count the number of each characters in a string"
      ]
    },
    {
      "cell_type": "code",
      "metadata": {
        "colab": {
          "base_uri": "https://localhost:8080/"
        },
        "id": "9KVdNzbuFE2e",
        "outputId": "55d1c168-ff73-463d-a941-f279c1cfa2ec"
      },
      "source": [
        "\n",
        "\n",
        "test_str = \"aneesha\"\n",
        "all_freq = {} \n",
        "for i in test_str:\n",
        "    if i in all_freq:\n",
        "        all_freq[i] += 1\n",
        "    else:\n",
        "        all_freq[i] = 1\n",
        "print (\"Count of all characters in aneesha is :\\n \"\n",
        "                                        +  str(all_freq))\n"
      ],
      "execution_count": 23,
      "outputs": [
        {
          "output_type": "stream",
          "name": "stdout",
          "text": [
            "Count of all characters in aneesha is :\n",
            " {'a': 2, 'n': 1, 'e': 2, 's': 1, 'h': 1}\n"
          ]
        }
      ]
    },
    {
      "cell_type": "markdown",
      "metadata": {
        "id": "183Nju50GCh7"
      },
      "source": [
        ""
      ]
    },
    {
      "cell_type": "markdown",
      "metadata": {
        "id": "l3LCULfklrTD"
      },
      "source": [
        "## Write a program to find the area and perimeter of a rectangle using functions"
      ]
    },
    {
      "cell_type": "code",
      "metadata": {
        "id": "8haQD8edlrTD",
        "colab": {
          "base_uri": "https://localhost:8080/"
        },
        "outputId": "823a6518-95c2-4245-e7d1-034e6c9ddd85"
      },
      "source": [
        "l=int(input(\"Length : \"))\n",
        "w=int(input(\"Width : \"))\n",
        "area=l*w\n",
        "perimeter=2*(l+w)\n",
        "print(\"Area of Rectangle : \",area)\n",
        "print(\"Perimeter of Rectangle : \",perimeter)\n",
        " "
      ],
      "execution_count": 24,
      "outputs": [
        {
          "output_type": "stream",
          "name": "stdout",
          "text": [
            "Length : 5\n",
            "Width : 4\n",
            "Area of Rectangle :  20\n",
            "Perimeter of Rectangle :  18\n"
          ]
        }
      ]
    },
    {
      "cell_type": "markdown",
      "metadata": {
        "id": "JHK4ZdsflrTE"
      },
      "source": [
        "## 4. Write a program to print the fibonacci series till a specified number"
      ]
    },
    {
      "cell_type": "code",
      "metadata": {
        "id": "LyBEj-4SlrTE",
        "colab": {
          "base_uri": "https://localhost:8080/"
        },
        "outputId": "960c733c-876a-4e3a-ee6d-4391db969766"
      },
      "source": [
        "n = int(input(\"Enter the value of 'n': \"))\n",
        "a = 0\n",
        "b = 1\n",
        "sum = 0\n",
        "count = 1\n",
        "print(\"Fibonacci Series: \", end = \" \")\n",
        "while(count <= n):\n",
        "  print(sum, end = \" \")\n",
        "  count += 1\n",
        "  a = b\n",
        "  b = sum\n",
        "  sum = a + b\n"
      ],
      "execution_count": 25,
      "outputs": [
        {
          "output_type": "stream",
          "name": "stdout",
          "text": [
            "Enter the value of 'n': 7\n",
            "Fibonacci Series:  0 1 1 2 3 5 8 "
          ]
        }
      ]
    },
    {
      "cell_type": "markdown",
      "metadata": {
        "id": "u4uBUcQKlrTE"
      },
      "source": [
        "## 5. Complete the following code to find the minimum of 3 number using cinditional statements. Output should be as displayed"
      ]
    },
    {
      "cell_type": "code",
      "metadata": {
        "id": "XdZwrZjIlrTF",
        "colab": {
          "base_uri": "https://localhost:8080/"
        },
        "outputId": "11afcf08-488d-4218-d1bb-762052511607"
      },
      "source": [
        "a,b,c = input(\"Enter three numbers followed by  : \").split()\n",
        "\n",
        "print(\"First number :\",a)\n",
        "print(\"Second number :\",b)\n",
        "print(\"Third number :\",c)\n",
        "if(a==b==c):\n",
        "    print(\"Entered numbers are equal!!!\")\n",
        "else:\n",
        "  if(a<b and a<c):\n",
        "    print(a,\" is smallest\")\n",
        "  elif b<c:\n",
        "    print(b,\" is smallest\")\n",
        "  else:\n",
        "    print(c,\" is smallest\")\n",
        "\n",
        "   "
      ],
      "execution_count": 68,
      "outputs": [
        {
          "output_type": "stream",
          "name": "stdout",
          "text": [
            "Enter three numbers followed by  : 3 -1 12\n",
            "First number : 3\n",
            "Second number : -1\n",
            "Third number : 12\n",
            "-1  is smallest\n"
          ]
        }
      ]
    },
    {
      "cell_type": "markdown",
      "metadata": {
        "id": "aR_CnToWlrTG"
      },
      "source": [
        "## 6. Write a program to print star pyramind. The number of rows should be taken as input from the user"
      ]
    },
    {
      "cell_type": "code",
      "metadata": {
        "id": "M37A-buplrTG",
        "colab": {
          "base_uri": "https://localhost:8080/"
        },
        "outputId": "e5583aed-9fac-4b0f-a413-2b2f1ff07053"
      },
      "source": [
        "print(\"Half Pyramid Pattern of Stars (*):\")\n",
        "for i in range(5):\n",
        "    for j in range(i+1):\n",
        "        print(\"* \", end=\"\")\n",
        "    print()"
      ],
      "execution_count": 26,
      "outputs": [
        {
          "output_type": "stream",
          "name": "stdout",
          "text": [
            "Half Pyramid Pattern of Stars (*):\n",
            "* \n",
            "* * \n",
            "* * * \n",
            "* * * * \n",
            "* * * * * \n"
          ]
        }
      ]
    },
    {
      "cell_type": "markdown",
      "metadata": {
        "id": "tlY6aFWBlrTH"
      },
      "source": [
        "## 7. Complete the following code to convert hour into seconds. Output should be as displayed"
      ]
    },
    {
      "cell_type": "code",
      "metadata": {
        "id": "YOZQFk7FlrTH",
        "colab": {
          "base_uri": "https://localhost:8080/"
        },
        "outputId": "9be2d2ea-bd4c-4480-9c82-54ed7374adf2"
      },
      "source": [
        "def to_seconds(t):\n",
        "    t=t*60*60\n",
        "    return t\n",
        "time_in_hours = int(input(\"enter hour\"))\n",
        "print(time_in_hours ,\" Hour is equal to\" ,to_seconds(time_in_hours) ,\" Seconds\")"
      ],
      "execution_count": 28,
      "outputs": [
        {
          "output_type": "stream",
          "name": "stdout",
          "text": [
            "enter hour11\n",
            "11  Hour is equal to 39600  Seconds\n"
          ]
        }
      ]
    },
    {
      "cell_type": "markdown",
      "metadata": {
        "id": "CnYorNiLlrTI"
      },
      "source": [
        "## 8. Write a program to print multiplication table as below"
      ]
    },
    {
      "cell_type": "code",
      "metadata": {
        "id": "dPQqDPuDlrTI",
        "colab": {
          "base_uri": "https://localhost:8080/"
        },
        "outputId": "f0a36121-0b43-4ec2-c3dc-63795c6d13e5"
      },
      "source": [
        "number = int(input (\"Enter the number of which the user wants to print the multiplication table: \"))           \n",
        "print (\"The Multiplication Table of: \", number)    \n",
        "for count in range(1, 11):      \n",
        "   print (number, 'x', count, '=', number * count)"
      ],
      "execution_count": 45,
      "outputs": [
        {
          "output_type": "stream",
          "name": "stdout",
          "text": [
            "Enter the number of which the user wants to print the multiplication table: 8\n",
            "The Multiplication Table of:  8\n",
            "8 x 1 = 8\n",
            "8 x 2 = 16\n",
            "8 x 3 = 24\n",
            "8 x 4 = 32\n",
            "8 x 5 = 40\n",
            "8 x 6 = 48\n",
            "8 x 7 = 56\n",
            "8 x 8 = 64\n",
            "8 x 9 = 72\n",
            "8 x 10 = 80\n"
          ]
        }
      ]
    },
    {
      "cell_type": "markdown",
      "metadata": {
        "id": "Fiaez8iblrTI"
      },
      "source": [
        "## 9. Write a program to take your 5 favorite food as list and print each as 'I like Biriyani'"
      ]
    },
    {
      "cell_type": "code",
      "metadata": {
        "id": "39W1zFX7lrTJ",
        "colab": {
          "base_uri": "https://localhost:8080/"
        },
        "outputId": "c3534c23-f1cf-46e0-b9c5-9ea4e8e00488"
      },
      "source": [
        "foods=input('enter favourite foods:').split()\n",
        "for f in foods:\n",
        "  print('i like',f)"
      ],
      "execution_count": 75,
      "outputs": [
        {
          "output_type": "stream",
          "name": "stdout",
          "text": [
            "enter favourite foods:chicken biriyani ice cream\n",
            "i like chicken\n",
            "i like biriyani\n",
            "i like ice\n",
            "i like cream\n"
          ]
        }
      ]
    },
    {
      "cell_type": "markdown",
      "metadata": {
        "id": "3vlcDNNEP7d_"
      },
      "source": [
        "## 10. Find error(s) in the following code(if any) and rewrite code.\n",
        "\n"
      ]
    },
    {
      "cell_type": "code",
      "metadata": {
        "id": "coREkcY3P9sG",
        "colab": {
          "base_uri": "https://localhost:8080/"
        },
        "outputId": "db48c29d-3690-480a-929f-b0a4e82b119d"
      },
      "source": [
        "x= int(input('Enter value of x:'))\n",
        "for y in range (0,10):\n",
        "     if ( x == y ):   \n",
        "          print(\"They are equal\")\n",
        "     else:\n",
        "          print(\"They are unequal\")"
      ],
      "execution_count": 74,
      "outputs": [
        {
          "output_type": "stream",
          "name": "stdout",
          "text": [
            "Enter value of x:4\n",
            "They are unequal\n",
            "They are unequal\n",
            "They are unequal\n",
            "They are unequal\n",
            "They are equal\n",
            "They are unequal\n",
            "They are unequal\n",
            "They are unequal\n",
            "They are unequal\n",
            "They are unequal\n"
          ]
        }
      ]
    }
  ]
}